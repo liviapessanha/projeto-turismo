{
 "cells": [
  {
   "cell_type": "code",
   "execution_count": 19,
   "id": "c84d968c",
   "metadata": {},
   "outputs": [],
   "source": [
    "from langchain.prompts import PromptTemplate\n",
    "from langchain_groq import ChatGroq\n",
    "from langchain.chains import LLMChain"
   ]
  },
  {
   "cell_type": "markdown",
   "id": "244404d6",
   "metadata": {},
   "source": [
    "#### Inicializa o LLM (Groq)"
   ]
  },
  {
   "cell_type": "code",
   "execution_count": 20,
   "id": "100a413f",
   "metadata": {},
   "outputs": [],
   "source": [
    "groq = ChatGroq(model_name='llama-3.3-70b-versatile', temperature=0)"
   ]
  },
  {
   "cell_type": "markdown",
   "id": "eeef3793",
   "metadata": {},
   "source": [
    "#### Templates dos prompts"
   ]
  },
  {
   "cell_type": "code",
   "execution_count": 21,
   "id": "9ac8cde0",
   "metadata": {},
   "outputs": [],
   "source": [
    "itinerary_template = \"\"\"\n",
    "Você é um assistente de roteiros turísticos.\n",
    "Perfil do turista: {perfil}\n",
    "Pergunta: {pergunta}\n",
    "\n",
    "Gere um roteiro detalhado, incluindo atrações, dias sugeridos e horários.\n",
    "\"\"\""
   ]
  },
  {
   "cell_type": "code",
   "execution_count": 22,
   "id": "773112a0",
   "metadata": {},
   "outputs": [],
   "source": [
    "logistics_template = \"\"\"\n",
    "Você é um assistente que responde perguntas sobre transporte, acomodação e logística de viagem.\n",
    "Pergunta: {pergunta}\n",
    "\n",
    "Responda de forma clara e prática.\n",
    "\"\"\""
   ]
  },
  {
   "cell_type": "code",
   "execution_count": 23,
   "id": "aaa8b2d3",
   "metadata": {},
   "outputs": [],
   "source": [
    "localinfo_template = \"\"\"\n",
    "Você é um assistente que fornece informações sobre pontos turísticos, restaurantes e eventos.\n",
    "Pergunta: {pergunta}\n",
    "Use as informações do contexto: {contexto}\n",
    "\"\"\""
   ]
  },
  {
   "cell_type": "markdown",
   "id": "b5c42de6",
   "metadata": {},
   "source": [
    "#### Criação dos PromptsTemplates e LLMChains"
   ]
  },
  {
   "cell_type": "code",
   "execution_count": 24,
   "id": "125aafc8",
   "metadata": {},
   "outputs": [],
   "source": [
    "itinerary_prompt = PromptTemplate(\n",
    "    input_variables=[\"perfil\", \"pergunta\"],\n",
    "    template=itinerary_template\n",
    ")\n",
    "itinerary_chain = LLMChain(llm=groq, prompt=itinerary_prompt)\n",
    "\n",
    "logistics_prompt = PromptTemplate(\n",
    "    input_variables=[\"pergunta\"],\n",
    "    template=logistics_template\n",
    ")\n",
    "logistics_chain = LLMChain(llm=groq, prompt=logistics_prompt)\n",
    "\n",
    "localinfo_prompt = PromptTemplate(\n",
    "    input_variables=[\"pergunta\", \"contexto\"],\n",
    "    template=localinfo_template\n",
    ")\n",
    "localinfo_chain = LLMChain(llm=groq, prompt=localinfo_prompt)"
   ]
  },
  {
   "cell_type": "markdown",
   "id": "7b52b856",
   "metadata": {},
   "source": [
    "#### Funções de execução das chains"
   ]
  },
  {
   "cell_type": "code",
   "execution_count": 25,
   "id": "d947b6bb",
   "metadata": {},
   "outputs": [],
   "source": [
    "def run_itinerary(pergunta, perfil=\"cultural\"):\n",
    "    return itinerary_chain.run({\"pergunta\": pergunta, \"perfil\": perfil})"
   ]
  },
  {
   "cell_type": "code",
   "execution_count": 26,
   "id": "06035529",
   "metadata": {},
   "outputs": [],
   "source": [
    "def run_logistics(pergunta):\n",
    "    return logistics_chain.run({\"pergunta\": pergunta})"
   ]
  },
  {
   "cell_type": "code",
   "execution_count": 27,
   "id": "6bb2792f",
   "metadata": {},
   "outputs": [],
   "source": [
    "def run_localinfo(pergunta, contexto=\"\"):\n",
    "    return localinfo_chain.run({\"pergunta\": pergunta, \"contexto\": contexto})"
   ]
  }
 ],
 "metadata": {
  "kernelspec": {
   "display_name": "langchain",
   "language": "python",
   "name": "python3"
  },
  "language_info": {
   "codemirror_mode": {
    "name": "ipython",
    "version": 3
   },
   "file_extension": ".py",
   "mimetype": "text/x-python",
   "name": "python",
   "nbconvert_exporter": "python",
   "pygments_lexer": "ipython3",
   "version": "3.13.5"
  }
 },
 "nbformat": 4,
 "nbformat_minor": 5
}
