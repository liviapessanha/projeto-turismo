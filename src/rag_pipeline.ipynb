{
 "cells": [
  {
   "cell_type": "code",
   "execution_count": 1,
   "id": "4d4bff06",
   "metadata": {},
   "outputs": [
    {
     "name": "stderr",
     "output_type": "stream",
     "text": [
      "/home/leva/anaconda3/envs/langchain/lib/python3.13/site-packages/langchain_pinecone/__init__.py:3: LangChainDeprecationWarning: As of langchain-core 0.3.0, LangChain uses pydantic v2 internally. The langchain_core.pydantic_v1 module was a compatibility shim for pydantic v1, and should no longer be used. Please update the code to import from Pydantic directly.\n",
      "\n",
      "For example, replace imports like: `from langchain_core.pydantic_v1 import BaseModel`\n",
      "with: `from pydantic import BaseModel`\n",
      "or the v1 compatibility namespace if you are working in a code base that has not been fully upgraded to pydantic 2 yet. \tfrom pydantic.v1 import BaseModel\n",
      "\n",
      "  from langchain_pinecone.vectorstores import Pinecone, PineconeVectorStore\n"
     ]
    }
   ],
   "source": [
    "import os\n",
    "import json\n",
    "from dotenv import load_dotenv\n",
    "from langchain_core.documents import Document\n",
    "from langchain_community.embeddings import HuggingFaceEmbeddings\n",
    "from langchain_pinecone import PineconeVectorStore\n",
    "import pinecone\n",
    "from pinecone import Pinecone, ServerlessSpec"
   ]
  },
  {
   "cell_type": "markdown",
   "id": "04778ce9",
   "metadata": {},
   "source": [
    "#### Carregar variavéis do .env"
   ]
  },
  {
   "cell_type": "code",
   "execution_count": 2,
   "id": "f8a23d82",
   "metadata": {},
   "outputs": [],
   "source": [
    "load_dotenv()\n",
    "PINECONE_API_KEY = os.getenv(\"PINECONE_API_KEY\")"
   ]
  },
  {
   "cell_type": "markdown",
   "id": "fb62f606",
   "metadata": {},
   "source": [
    "#### Tratando caso não encontre a key \"PINECONE_API_KEY\"\n"
   ]
  },
  {
   "cell_type": "code",
   "execution_count": 3,
   "id": "73bc3d4b",
   "metadata": {},
   "outputs": [],
   "source": [
    "if not PINECONE_API_KEY:\n",
    "  raise ValueError(\"PINECONE_API_KEY não encontrada\")"
   ]
  },
  {
   "cell_type": "markdown",
   "id": "7f77a315",
   "metadata": {},
   "source": [
    "#### Inicializar Pinecone"
   ]
  },
  {
   "cell_type": "code",
   "execution_count": 4,
   "id": "3020ed2b",
   "metadata": {},
   "outputs": [],
   "source": [
    "INDEX_NAME = \"turismo\"\n",
    "DIMENSION = 384\n",
    "\n",
    "# Cria instância Pinecone\n",
    "pc = Pinecone(api_key=PINECONE_API_KEY)\n",
    "\n",
    "# Criar índice se não existir\n",
    "existing_indexes = [idx[\"name\"] for idx in pc.list_indexes()]\n",
    "if INDEX_NAME not in existing_indexes:\n",
    "    pc.create_index(\n",
    "        name=INDEX_NAME,\n",
    "        dimension=DIMENSION,\n",
    "        metric=\"cosine\",\n",
    "        spec=ServerlessSpec(cloud=\"aws\", region=\"us-east-1\")\n",
    "    )\n",
    "\n",
    "index = pc.Index(INDEX_NAME)"
   ]
  },
  {
   "cell_type": "markdown",
   "id": "d1f82d95",
   "metadata": {},
   "source": [
    "#### Função para carregar JSONs como docs"
   ]
  },
  {
   "cell_type": "code",
   "execution_count": 5,
   "id": "bf322e0c",
   "metadata": {},
   "outputs": [],
   "source": [
    "def load_city_data(file_path: str):\n",
    "    docs = []\n",
    "    with open(file_path, \"r\", encoding=\"utf-8\") as f:\n",
    "        data = json.load(f)\n",
    "    for item in data:\n",
    "        content = f\"{item['nome']} - {item['descricao']}\"\n",
    "        metadata = {\n",
    "            \"cidade\": item[\"cidade\"],\n",
    "            \"categoria\": item[\"categoria\"],\n",
    "            \"nome\": item[\"nome\"]\n",
    "        }\n",
    "        docs.append(Document(page_content=content, metadata=metadata))\n",
    "    return docs"
   ]
  },
  {
   "cell_type": "markdown",
   "id": "7b6af3e1",
   "metadata": {},
   "source": [
    "#### Função para criar/recarregar o vector store"
   ]
  },
  {
   "cell_type": "code",
   "execution_count": 6,
   "id": "3c64e731",
   "metadata": {},
   "outputs": [],
   "source": [
    "def create_vectorstore(documents):\n",
    "    # Cria embeddings 2048\n",
    "    embeddings_model = HuggingFaceEmbeddings(model_name=\"all-MiniLM-L6-v2\")\n",
    "\n",
    "    # Cria ou conecta ao índice Pinecone\n",
    "    vectorstore = PineconeVectorStore.from_documents(\n",
    "        documents=documents,\n",
    "        embedding=embeddings_model,\n",
    "        index_name=INDEX_NAME\n",
    "    )\n",
    "    return vectorstore"
   ]
  },
  {
   "cell_type": "markdown",
   "id": "694af2d5",
   "metadata": {},
   "source": [
    "#### Função principal para carregar dados e retornar o retriever"
   ]
  },
  {
   "cell_type": "code",
   "execution_count": 7,
   "id": "32684aee",
   "metadata": {},
   "outputs": [],
   "source": [
    "def get_rag_retriever():\n",
    "    rio_docs = load_city_data(\"../data/rio.json\")\n",
    "    paris_docs = load_city_data(\"../data/paris.json\")\n",
    "    all_docs = rio_docs + paris_docs\n",
    "\n",
    "    vectorstore = create_vectorstore(all_docs)\n",
    "    retriever = vectorstore.as_retriever(search_type=\"similarity\", search_kwargs={\"k\": 6})\n",
    "    print(f\"{len(all_docs)} documentos indexados e retriever pronto.\")\n",
    "    return retriever"
   ]
  },
  {
   "cell_type": "code",
   "execution_count": 8,
   "id": "f9718cd8",
   "metadata": {},
   "outputs": [
    {
     "name": "stderr",
     "output_type": "stream",
     "text": [
      "/tmp/ipykernel_82404/2390400965.py:3: LangChainDeprecationWarning: The class `HuggingFaceEmbeddings` was deprecated in LangChain 0.2.2 and will be removed in 1.0. An updated version of the class exists in the :class:`~langchain-huggingface package and should be used instead. To use it run `pip install -U :class:`~langchain-huggingface` and import as `from :class:`~langchain_huggingface import HuggingFaceEmbeddings``.\n",
      "  embeddings_model = HuggingFaceEmbeddings(model_name=\"all-MiniLM-L6-v2\")\n"
     ]
    },
    {
     "name": "stdout",
     "output_type": "stream",
     "text": [
      "18 documentos indexados e retriever pronto.\n"
     ]
    }
   ],
   "source": [
    "retriever = get_rag_retriever()"
   ]
  }
 ],
 "metadata": {
  "kernelspec": {
   "display_name": "langchain",
   "language": "python",
   "name": "python3"
  },
  "language_info": {
   "codemirror_mode": {
    "name": "ipython",
    "version": 3
   },
   "file_extension": ".py",
   "mimetype": "text/x-python",
   "name": "python",
   "nbconvert_exporter": "python",
   "pygments_lexer": "ipython3",
   "version": "3.13.5"
  }
 },
 "nbformat": 4,
 "nbformat_minor": 5
}
