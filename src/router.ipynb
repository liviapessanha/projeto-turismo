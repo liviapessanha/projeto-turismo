{
 "cells": [
  {
   "cell_type": "code",
   "execution_count": 12,
   "id": "7c511525",
   "metadata": {},
   "outputs": [],
   "source": [
    "import import_ipynb\n",
    "import chains\n",
    "from langchain_groq import ChatGroq\n",
    "from langchain.prompts import PromptTemplate\n",
    "from langchain.chains import LLMChain"
   ]
  },
  {
   "cell_type": "markdown",
   "id": "b6580f79",
   "metadata": {},
   "source": [
    "#### Inicializa o LLM para o router"
   ]
  },
  {
   "cell_type": "code",
   "execution_count": 13,
   "id": "b7ab0d94",
   "metadata": {},
   "outputs": [],
   "source": [
    "router_llm = ChatGroq(model_name='llama-3.3-70b-versatile', temperature=0)"
   ]
  },
  {
   "cell_type": "markdown",
   "id": "8542fc66",
   "metadata": {},
   "source": [
    "#### Prompt do Router"
   ]
  },
  {
   "cell_type": "code",
   "execution_count": 14,
   "id": "5eb45432",
   "metadata": {},
   "outputs": [],
   "source": [
    "router_template = \"\"\"\n",
    "Você é um assistente que classifica a intenção da pergunta de um turista.\n",
    "Classifique a pergunta em uma das categorias:\n",
    "- roteiro-viagem\n",
    "- logistica-transporte\n",
    "- info-local\n",
    "\n",
    "Pergunta: {pergunta}\n",
    "\n",
    "Responda apenas com a categoria correta.\n",
    "\"\"\"\n",
    "router_prompt = PromptTemplate(\n",
    "    input_variables=[\"pergunta\"],\n",
    "    template=router_template\n",
    ")\n",
    "\n",
    "router_chain = LLMChain(llm=router_llm, prompt=router_prompt)"
   ]
  },
  {
   "cell_type": "markdown",
   "id": "01f22304",
   "metadata": {},
   "source": [
    "#### Função principal - Recebe a pergunta do usuário, classifica a intenção e chama a chain correspondente"
   ]
  },
  {
   "cell_type": "code",
   "execution_count": 15,
   "id": "553a6eb6",
   "metadata": {},
   "outputs": [],
   "source": [
    "def route_question(pergunta, perfil=\"cultural\", contexto=\"\"):\n",
    "    # Classifica a intenção\n",
    "    categoria = router_chain.run({\"pergunta\": pergunta}).strip().lower()\n",
    "\n",
    "    # Chama a chain correta do notebook chains\n",
    "    if categoria == \"roteiro-viagem\":\n",
    "        resposta = chains.run_itinerary(pergunta, perfil=perfil)\n",
    "    elif categoria == \"logistica-transporte\":\n",
    "        resposta = chains.run_logistics(pergunta)\n",
    "    elif categoria == \"info-local\":\n",
    "        resposta = chains.run_localinfo(pergunta, contexto=contexto)\n",
    "    else:\n",
    "        resposta = \"Desculpe, não consegui identificar a intenção da pergunta.\"\n",
    "\n",
    "    return resposta"
   ]
  }
 ],
 "metadata": {
  "kernelspec": {
   "display_name": "langchain",
   "language": "python",
   "name": "python3"
  },
  "language_info": {
   "codemirror_mode": {
    "name": "ipython",
    "version": 3
   },
   "file_extension": ".py",
   "mimetype": "text/x-python",
   "name": "python",
   "nbconvert_exporter": "python",
   "pygments_lexer": "ipython3",
   "version": "3.13.5"
  }
 },
 "nbformat": 4,
 "nbformat_minor": 5
}
